{
 "cells": [
  {
   "cell_type": "markdown",
   "id": "a5e044ef",
   "metadata": {},
   "source": [
    "# Email Extraction"
   ]
  },
  {
   "cell_type": "code",
   "execution_count": null,
   "id": "55970fa8",
   "metadata": {},
   "outputs": [],
   "source": [
    "#Importing Libraries\n",
    "\n",
    "import imaplib\n",
    "import email\n",
    "import pandas as pd\n",
    "\n",
    "# Connect to the IMAP server and log in to the email account\n",
    "\n",
    "mail = imaplib.IMAP4_SSL('imap.gmail.com', 993)\n",
    "mail.login('Your_email_address', 'your_email_password')\n",
    "\n",
    "# Select the mailbox and search for emails\n",
    "\n",
    "mail.select('inbox')\n",
    "result, data = mail.search(None, 'SINCE \"01-JAN-2023\"')\n",
    "\n",
    "# Parse the email messages and extract information\n",
    "\n",
    "email_list = []\n",
    "for i in data[0].split():\n",
    "    result, data = mail.fetch(i, '(RFC822)')\n",
    "    raw_email = data[0][1]\n",
    "    email_message = email.message_from_bytes(raw_email)\n",
    "    email_subject = email_message['Subject']\n",
    "    email_sender = email_message['From']\n",
    "    email_date = email_message['Date']\n",
    "    email_list.append([email_subject, email_sender, email_date])\n",
    "\n",
    "# Create a data frame and export to Excel\n",
    "\n",
    "df = pd.DataFrame(email_list, columns=['Subject', 'Sender', 'Date'])\n",
    "df.to_excel('email_data.xlsx', index=False)\n",
    "\n",
    "# Disconnect from the IMAP server\n",
    "\n",
    "mail.close()\n",
    "mail.logout()"
   ]
  },
  {
   "cell_type": "code",
   "execution_count": null,
   "id": "871bf7fc",
   "metadata": {},
   "outputs": [],
   "source": [
    "df.head()"
   ]
  },
  {
   "cell_type": "code",
   "execution_count": null,
   "id": "7e527f1b",
   "metadata": {},
   "outputs": [],
   "source": [
    "df.dercribe()"
   ]
  }
 ],
 "metadata": {
  "kernelspec": {
   "display_name": "Python 3 (ipykernel)",
   "language": "python",
   "name": "python3"
  },
  "language_info": {
   "codemirror_mode": {
    "name": "ipython",
    "version": 3
   },
   "file_extension": ".py",
   "mimetype": "text/x-python",
   "name": "python",
   "nbconvert_exporter": "python",
   "pygments_lexer": "ipython3",
   "version": "3.9.12"
  }
 },
 "nbformat": 4,
 "nbformat_minor": 5
}
